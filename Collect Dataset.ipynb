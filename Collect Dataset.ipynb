{
 "cells": [
  {
   "cell_type": "code",
   "execution_count": 1,
   "id": "40f46e6b",
   "metadata": {},
   "outputs": [
    {
     "name": "stdout",
     "output_type": "stream",
     "text": [
      "Requirement already satisfied: tensorflow-macos in /Users/rakazein/.pyenv/versions/3.8.16/lib/python3.8/site-packages (2.9.0)\n",
      "Requirement already satisfied: tensorflow-metal in /Users/rakazein/.pyenv/versions/3.8.16/lib/python3.8/site-packages (0.5.0)\n",
      "Requirement already satisfied: opencv-python in /Users/rakazein/.pyenv/versions/3.8.16/lib/python3.8/site-packages (4.7.0.72)\n",
      "Requirement already satisfied: mediapipe-silicon in /Users/rakazein/.pyenv/versions/3.8.16/lib/python3.8/site-packages (0.8.11)\n",
      "Requirement already satisfied: scikit-learn in /Users/rakazein/.pyenv/versions/3.8.16/lib/python3.8/site-packages (1.2.2)\n",
      "Requirement already satisfied: matplotlib in /Users/rakazein/.pyenv/versions/3.8.16/lib/python3.8/site-packages (3.7.1)\n",
      "Requirement already satisfied: setuptools in /Users/rakazein/.pyenv/versions/3.8.16/lib/python3.8/site-packages (from tensorflow-macos) (67.7.2)\n",
      "Requirement already satisfied: wrapt>=1.11.0 in /Users/rakazein/.pyenv/versions/3.8.16/lib/python3.8/site-packages (from tensorflow-macos) (1.15.0)\n",
      "Requirement already satisfied: libclang>=13.0.0 in /Users/rakazein/.pyenv/versions/3.8.16/lib/python3.8/site-packages (from tensorflow-macos) (16.0.0)\n",
      "Requirement already satisfied: h5py>=2.9.0 in /Users/rakazein/.pyenv/versions/3.8.16/lib/python3.8/site-packages (from tensorflow-macos) (3.8.0)\n",
      "Requirement already satisfied: tensorboard<2.10,>=2.9 in /Users/rakazein/.pyenv/versions/3.8.16/lib/python3.8/site-packages (from tensorflow-macos) (2.9.1)\n",
      "Requirement already satisfied: keras-preprocessing>=1.1.1 in /Users/rakazein/.pyenv/versions/3.8.16/lib/python3.8/site-packages (from tensorflow-macos) (1.1.2)\n",
      "Requirement already satisfied: keras<2.10.0,>=2.9.0rc0 in /Users/rakazein/.pyenv/versions/3.8.16/lib/python3.8/site-packages (from tensorflow-macos) (2.9.0)\n",
      "Requirement already satisfied: termcolor>=1.1.0 in /Users/rakazein/.pyenv/versions/3.8.16/lib/python3.8/site-packages (from tensorflow-macos) (2.3.0)\n",
      "Requirement already satisfied: astunparse>=1.6.0 in /Users/rakazein/.pyenv/versions/3.8.16/lib/python3.8/site-packages (from tensorflow-macos) (1.6.3)\n",
      "Requirement already satisfied: numpy>=1.20 in /Users/rakazein/.pyenv/versions/3.8.16/lib/python3.8/site-packages (from tensorflow-macos) (1.24.3)\n",
      "Requirement already satisfied: google-pasta>=0.1.1 in /Users/rakazein/.pyenv/versions/3.8.16/lib/python3.8/site-packages (from tensorflow-macos) (0.2.0)\n",
      "Requirement already satisfied: packaging in /Users/rakazein/.pyenv/versions/3.8.16/lib/python3.8/site-packages (from tensorflow-macos) (23.1)\n",
      "Requirement already satisfied: gast<=0.4.0,>=0.2.1 in /Users/rakazein/.pyenv/versions/3.8.16/lib/python3.8/site-packages (from tensorflow-macos) (0.4.0)\n",
      "Requirement already satisfied: absl-py>=1.0.0 in /Users/rakazein/.pyenv/versions/3.8.16/lib/python3.8/site-packages (from tensorflow-macos) (1.4.0)\n",
      "Requirement already satisfied: typing-extensions>=3.6.6 in /Users/rakazein/.pyenv/versions/3.8.16/lib/python3.8/site-packages (from tensorflow-macos) (4.5.0)\n",
      "Requirement already satisfied: grpcio<2.0,>=1.24.3 in /Users/rakazein/.pyenv/versions/3.8.16/lib/python3.8/site-packages (from tensorflow-macos) (1.54.0)\n",
      "Requirement already satisfied: tensorflow-estimator<2.10.0,>=2.9.0rc0 in /Users/rakazein/.pyenv/versions/3.8.16/lib/python3.8/site-packages (from tensorflow-macos) (2.9.0)\n",
      "Requirement already satisfied: flatbuffers<2,>=1.12 in /Users/rakazein/.pyenv/versions/3.8.16/lib/python3.8/site-packages (from tensorflow-macos) (1.12)\n",
      "Requirement already satisfied: protobuf>=3.9.2 in /Users/rakazein/.pyenv/versions/3.8.16/lib/python3.8/site-packages (from tensorflow-macos) (3.19.6)\n",
      "Requirement already satisfied: opt-einsum>=2.3.2 in /Users/rakazein/.pyenv/versions/3.8.16/lib/python3.8/site-packages (from tensorflow-macos) (3.3.0)\n",
      "Requirement already satisfied: six>=1.12.0 in /Users/rakazein/.pyenv/versions/3.8.16/lib/python3.8/site-packages (from tensorflow-macos) (1.15.0)\n",
      "Requirement already satisfied: wheel~=0.35 in /Users/rakazein/.pyenv/versions/3.8.16/lib/python3.8/site-packages (from tensorflow-metal) (0.40.0)\n",
      "Requirement already satisfied: opencv-contrib-python in /Users/rakazein/.pyenv/versions/3.8.16/lib/python3.8/site-packages (from mediapipe-silicon) (4.7.0.72)\n",
      "Requirement already satisfied: attrs>=19.1.0 in /Users/rakazein/.pyenv/versions/3.8.16/lib/python3.8/site-packages (from mediapipe-silicon) (22.2.0)\n",
      "Requirement already satisfied: joblib>=1.1.1 in /Users/rakazein/.pyenv/versions/3.8.16/lib/python3.8/site-packages (from scikit-learn) (1.2.0)\n",
      "Requirement already satisfied: threadpoolctl>=2.0.0 in /Users/rakazein/.pyenv/versions/3.8.16/lib/python3.8/site-packages (from scikit-learn) (3.1.0)\n",
      "Requirement already satisfied: scipy>=1.3.2 in /Users/rakazein/.pyenv/versions/3.8.16/lib/python3.8/site-packages (from scikit-learn) (1.10.1)\n",
      "Requirement already satisfied: contourpy>=1.0.1 in /Users/rakazein/.pyenv/versions/3.8.16/lib/python3.8/site-packages (from matplotlib) (1.0.7)\n",
      "Requirement already satisfied: pillow>=6.2.0 in /Users/rakazein/.pyenv/versions/3.8.16/lib/python3.8/site-packages (from matplotlib) (9.4.0)\n",
      "Requirement already satisfied: python-dateutil>=2.7 in /Users/rakazein/.pyenv/versions/3.8.16/lib/python3.8/site-packages (from matplotlib) (2.8.2)\n",
      "Requirement already satisfied: importlib-resources>=3.2.0 in /Users/rakazein/.pyenv/versions/3.8.16/lib/python3.8/site-packages (from matplotlib) (5.12.0)\n",
      "Requirement already satisfied: cycler>=0.10 in /Users/rakazein/.pyenv/versions/3.8.16/lib/python3.8/site-packages (from matplotlib) (0.11.0)\n",
      "Requirement already satisfied: kiwisolver>=1.0.1 in /Users/rakazein/.pyenv/versions/3.8.16/lib/python3.8/site-packages (from matplotlib) (1.4.4)\n",
      "Requirement already satisfied: fonttools>=4.22.0 in /Users/rakazein/.pyenv/versions/3.8.16/lib/python3.8/site-packages (from matplotlib) (4.39.2)\n",
      "Requirement already satisfied: pyparsing>=2.3.1 in /Users/rakazein/.pyenv/versions/3.8.16/lib/python3.8/site-packages (from matplotlib) (3.0.9)\n",
      "Requirement already satisfied: zipp>=3.1.0 in /Users/rakazein/.pyenv/versions/3.8.16/lib/python3.8/site-packages (from importlib-resources>=3.2.0->matplotlib) (3.15.0)\n",
      "Requirement already satisfied: markdown>=2.6.8 in /Users/rakazein/.pyenv/versions/3.8.16/lib/python3.8/site-packages (from tensorboard<2.10,>=2.9->tensorflow-macos) (3.4.3)\n",
      "Requirement already satisfied: requests<3,>=2.21.0 in /Users/rakazein/.pyenv/versions/3.8.16/lib/python3.8/site-packages (from tensorboard<2.10,>=2.9->tensorflow-macos) (2.29.0)\n",
      "Requirement already satisfied: google-auth-oauthlib<0.5,>=0.4.1 in /Users/rakazein/.pyenv/versions/3.8.16/lib/python3.8/site-packages (from tensorboard<2.10,>=2.9->tensorflow-macos) (0.4.6)\n",
      "Requirement already satisfied: tensorboard-plugin-wit>=1.6.0 in /Users/rakazein/.pyenv/versions/3.8.16/lib/python3.8/site-packages (from tensorboard<2.10,>=2.9->tensorflow-macos) (1.8.1)\n",
      "Requirement already satisfied: tensorboard-data-server<0.7.0,>=0.6.0 in /Users/rakazein/.pyenv/versions/3.8.16/lib/python3.8/site-packages (from tensorboard<2.10,>=2.9->tensorflow-macos) (0.6.1)\n",
      "Requirement already satisfied: google-auth<3,>=1.6.3 in /Users/rakazein/.pyenv/versions/3.8.16/lib/python3.8/site-packages (from tensorboard<2.10,>=2.9->tensorflow-macos) (2.17.3)\n",
      "Requirement already satisfied: werkzeug>=1.0.1 in /Users/rakazein/.pyenv/versions/3.8.16/lib/python3.8/site-packages (from tensorboard<2.10,>=2.9->tensorflow-macos) (2.3.3)\n",
      "Requirement already satisfied: rsa<5,>=3.1.4 in /Users/rakazein/.local/lib/python3.8/site-packages (from google-auth<3,>=1.6.3->tensorboard<2.10,>=2.9->tensorflow-macos) (4.7.2)\n",
      "Requirement already satisfied: cachetools<6.0,>=2.0.0 in /Users/rakazein/.pyenv/versions/3.8.16/lib/python3.8/site-packages (from google-auth<3,>=1.6.3->tensorboard<2.10,>=2.9->tensorflow-macos) (5.3.0)\n",
      "Requirement already satisfied: pyasn1-modules>=0.2.1 in /Users/rakazein/.pyenv/versions/3.8.16/lib/python3.8/site-packages (from google-auth<3,>=1.6.3->tensorboard<2.10,>=2.9->tensorflow-macos) (0.3.0)\n",
      "Requirement already satisfied: requests-oauthlib>=0.7.0 in /Users/rakazein/.pyenv/versions/3.8.16/lib/python3.8/site-packages (from google-auth-oauthlib<0.5,>=0.4.1->tensorboard<2.10,>=2.9->tensorflow-macos) (1.3.1)\n",
      "Requirement already satisfied: importlib-metadata>=4.4 in /Users/rakazein/.pyenv/versions/3.8.16/lib/python3.8/site-packages (from markdown>=2.6.8->tensorboard<2.10,>=2.9->tensorflow-macos) (6.6.0)\n",
      "Requirement already satisfied: charset-normalizer<4,>=2 in /Users/rakazein/.pyenv/versions/3.8.16/lib/python3.8/site-packages (from requests<3,>=2.21.0->tensorboard<2.10,>=2.9->tensorflow-macos) (3.1.0)\n",
      "Requirement already satisfied: idna<4,>=2.5 in /Users/rakazein/.pyenv/versions/3.8.16/lib/python3.8/site-packages (from requests<3,>=2.21.0->tensorboard<2.10,>=2.9->tensorflow-macos) (3.4)\n",
      "Requirement already satisfied: urllib3<1.27,>=1.21.1 in /Users/rakazein/.pyenv/versions/3.8.16/lib/python3.8/site-packages (from requests<3,>=2.21.0->tensorboard<2.10,>=2.9->tensorflow-macos) (1.26.15)\n",
      "Requirement already satisfied: certifi>=2017.4.17 in /Users/rakazein/.pyenv/versions/3.8.16/lib/python3.8/site-packages (from requests<3,>=2.21.0->tensorboard<2.10,>=2.9->tensorflow-macos) (2022.12.7)\n",
      "Requirement already satisfied: MarkupSafe>=2.1.1 in /Users/rakazein/.pyenv/versions/3.8.16/lib/python3.8/site-packages (from werkzeug>=1.0.1->tensorboard<2.10,>=2.9->tensorflow-macos) (2.1.2)\n"
     ]
    },
    {
     "name": "stdout",
     "output_type": "stream",
     "text": [
      "Requirement already satisfied: pyasn1<0.6.0,>=0.4.6 in /Users/rakazein/.pyenv/versions/3.8.16/lib/python3.8/site-packages (from pyasn1-modules>=0.2.1->google-auth<3,>=1.6.3->tensorboard<2.10,>=2.9->tensorflow-macos) (0.5.0)\n",
      "Requirement already satisfied: oauthlib>=3.0.0 in /Users/rakazein/.pyenv/versions/3.8.16/lib/python3.8/site-packages (from requests-oauthlib>=0.7.0->google-auth-oauthlib<0.5,>=0.4.1->tensorboard<2.10,>=2.9->tensorflow-macos) (3.2.2)\n",
      "\u001b[33mWARNING: You are using pip version 22.0.4; however, version 23.2.1 is available.\n",
      "You should consider upgrading via the '/Users/rakazein/.pyenv/versions/3.8.16/bin/python3.8 -m pip install --upgrade pip' command.\u001b[0m\u001b[33m\n",
      "\u001b[0m"
     ]
    }
   ],
   "source": [
    "!pip install tensorflow-macos tensorflow-metal opencv-python mediapipe-silicon scikit-learn matplotlib"
   ]
  },
  {
   "cell_type": "code",
   "execution_count": 2,
   "id": "42e8ebae",
   "metadata": {},
   "outputs": [
    {
     "name": "stderr",
     "output_type": "stream",
     "text": [
      "objc[83891]: Class CaptureDelegate is implemented in both /Users/rakazein/.pyenv/versions/3.8.16/lib/python3.8/site-packages/cv2/cv2.abi3.so (0x144f765a0) and /Users/rakazein/.pyenv/versions/3.8.16/lib/python3.8/site-packages/mediapipe/.dylibs/libopencv_videoio.3.4.16.dylib (0x12f448860). One of the two will be used. Which one is undefined.\n",
      "objc[83891]: Class CVWindow is implemented in both /Users/rakazein/.pyenv/versions/3.8.16/lib/python3.8/site-packages/cv2/cv2.abi3.so (0x144f765f0) and /Users/rakazein/.pyenv/versions/3.8.16/lib/python3.8/site-packages/mediapipe/.dylibs/libopencv_highgui.3.4.16.dylib (0x11f650a68). One of the two will be used. Which one is undefined.\n",
      "objc[83891]: Class CVView is implemented in both /Users/rakazein/.pyenv/versions/3.8.16/lib/python3.8/site-packages/cv2/cv2.abi3.so (0x144f76618) and /Users/rakazein/.pyenv/versions/3.8.16/lib/python3.8/site-packages/mediapipe/.dylibs/libopencv_highgui.3.4.16.dylib (0x11f650a90). One of the two will be used. Which one is undefined.\n",
      "objc[83891]: Class CVSlider is implemented in both /Users/rakazein/.pyenv/versions/3.8.16/lib/python3.8/site-packages/cv2/cv2.abi3.so (0x144f76640) and /Users/rakazein/.pyenv/versions/3.8.16/lib/python3.8/site-packages/mediapipe/.dylibs/libopencv_highgui.3.4.16.dylib (0x11f650ab8). One of the two will be used. Which one is undefined.\n"
     ]
    }
   ],
   "source": [
    "import cv2\n",
    "import numpy as np\n",
    "import os\n",
    "from matplotlib import pyplot as plt\n",
    "import time\n",
    "import mediapipe as mp"
   ]
  },
  {
   "cell_type": "code",
   "execution_count": 3,
   "id": "67547a38",
   "metadata": {},
   "outputs": [],
   "source": [
    "mp_holistic = mp.solutions.holistic # Holistic model\n",
    "mp_drawing = mp.solutions.drawing_utils # Drawing utilities"
   ]
  },
  {
   "cell_type": "code",
   "execution_count": 4,
   "id": "bae06d6f",
   "metadata": {},
   "outputs": [],
   "source": [
    "def mediapipe_detection(image, model):\n",
    "    image = cv2.cvtColor(image, cv2.COLOR_BGR2RGB) # COLOR CONVERSION BGR 2 RGB\n",
    "    image.flags.writeable = False                  # Image is no longer writeable\n",
    "    results = model.process(image)                 # Make prediction\n",
    "    image.flags.writeable = True                   # Image is now writeable \n",
    "    image = cv2.cvtColor(image, cv2.COLOR_RGB2BGR) # COLOR COVERSION RGB 2 BGR\n",
    "    return image, results"
   ]
  },
  {
   "cell_type": "code",
   "execution_count": 5,
   "id": "b43c25f9",
   "metadata": {},
   "outputs": [],
   "source": [
    "def draw_landmarks(image, results):\n",
    "    mp_drawing.draw_landmarks(image, results.left_hand_landmarks, mp_holistic.HAND_CONNECTIONS) # Draw left hand connections\n",
    "    mp_drawing.draw_landmarks(image, results.right_hand_landmarks, mp_holistic.HAND_CONNECTIONS) # Draw right hand connections"
   ]
  },
  {
   "cell_type": "code",
   "execution_count": 6,
   "id": "b6a3b423",
   "metadata": {},
   "outputs": [],
   "source": [
    "def draw_styled_landmarks(image, results):\n",
    "    #Draw left hand connections\n",
    "    mp_drawing.draw_landmarks(image, results.left_hand_landmarks, mp_holistic.HAND_CONNECTIONS, \n",
    "                             mp_drawing.DrawingSpec(color=(121,22,76), thickness=2, circle_radius=4), \n",
    "                             mp_drawing.DrawingSpec(color=(121,44,250), thickness=2, circle_radius=2)\n",
    "                             ) \n",
    "    # Draw right hand connections  \n",
    "    mp_drawing.draw_landmarks(image, results.right_hand_landmarks, mp_holistic.HAND_CONNECTIONS, \n",
    "                             mp_drawing.DrawingSpec(color=(245,117,66), thickness=2, circle_radius=4), \n",
    "                             mp_drawing.DrawingSpec(color=(245,66,230), thickness=2, circle_radius=2)\n",
    "                             ) "
   ]
  },
  {
   "cell_type": "code",
   "execution_count": 7,
   "id": "e41df257",
   "metadata": {},
   "outputs": [],
   "source": [
    "def extract_keypoints(results):\n",
    "    lh = np.array([[res.x, res.y, res.z] for res in results.left_hand_landmarks.landmark]).flatten() if results.left_hand_landmarks else np.zeros(21*3)\n",
    "    rh = np.array([[res.x, res.y, res.z] for res in results.right_hand_landmarks.landmark]).flatten() if results.right_hand_landmarks else np.zeros(21*3)\n",
    "    return np.concatenate([lh, rh])"
   ]
  },
  {
   "cell_type": "code",
   "execution_count": 8,
   "id": "d888aeb0",
   "metadata": {},
   "outputs": [],
   "source": [
    "# Path for exported data, numpy arrays\n",
    "DATA_PATH = os.path.join('MP_DATA_V2') \n",
    "\n",
    "# Actions that we try to detect\n",
    "actions = np.array(['a', 'b', 'c', \n",
    "                    'd', 'e', 'f', \n",
    "                    'g', 'h', 'i', \n",
    "                    'j', 'k', 'l', \n",
    "                    'm', 'n', 'o', \n",
    "                    'p', 'q', 'r', \n",
    "                    's', 't', 'u',\n",
    "                    'v', 'w', 'x',\n",
    "                    'y', 'z'\n",
    "                   ])\n",
    "\n",
    "# Thirty videos worth of data\n",
    "no_sequences = 30\n",
    "\n",
    "# Videos are going to be 30 frames in length\n",
    "sequence_length = 30\n",
    "\n",
    "# Folder start\n",
    "start_folder = 0"
   ]
  },
  {
   "cell_type": "code",
   "execution_count": 10,
   "id": "7cb4af4e",
   "metadata": {},
   "outputs": [
    {
     "name": "stdout",
     "output_type": "stream",
     "text": [
      "['20', '18', '27', '9', '0', '11', '7', '29', '16', '6', '28', '17', '1', '10', '19', '26', '8', '21', '24', '23', '4', '15', '3', '12', '2', '13', '5', '14', '22', '25']\n",
      "['20', '18', '27', '9', '0', '11', '7', '29', '16', '6', '28', '17', '1', '10', '19', '26', '8', '21', '24', '23', '4', '15', '3', '12', '2', '13', '5', '14', '22', '25']\n",
      "['20', '18', '27', '9', '0', '11', '7', '29', '16', '6', '28', '17', '1', '10', '19', '26', '8', '21', '24', '23', '4', '15', '3', '12', '2', '13', '5', '14', '22', '25']\n",
      "['20', '18', '27', '9', '0', '11', '7', '29', '16', '6', '28', '17', '1', '10', '19', '26', '8', '21', '24', '23', '4', '15', '3', '12', '2', '13', '5', '14', '22', '25']\n",
      "['20', '18', '27', '9', '0', '11', '7', '29', '16', '6', '28', '17', '1', '10', '19', '26', '8', '21', '24', '23', '4', '15', '3', '12', '2', '13', '5', '14', '22', '25']\n",
      "['20', '18', '27', '9', '0', '11', '7', '29', '16', '6', '28', '17', '1', '10', '19', '26', '8', '21', '24', '23', '4', '15', '3', '12', '2', '13', '5', '14', '22', '25']\n",
      "['20', '18', '27', '9', '0', '11', '7', '29', '16', '6', '28', '17', '1', '10', '19', '26', '8', '21', '24', '23', '4', '15', '3', '12', '2', '13', '5', '14', '22', '25']\n",
      "['20', '18', '27', '9', '0', '11', '7', '29', '16', '6', '28', '17', '1', '10', '19', '26', '8', '21', '24', '23', '4', '15', '3', '12', '2', '13', '5', '14', '22', '25']\n",
      "['20', '18', '27', '9', '0', '11', '7', '29', '16', '6', '28', '17', '1', '10', '19', '26', '8', '21', '24', '23', '4', '15', '3', '12', '2', '13', '5', '14', '22', '25']\n",
      "['20', '18', '27', '9', '0', '11', '7', '29', '16', '6', '28', '17', '1', '10', '19', '26', '8', '21', '24', '23', '4', '15', '3', '12', '2', '13', '5', '14', '22', '25']\n",
      "['20', '18', '27', '9', '0', '11', '7', '29', '16', '6', '28', '17', '1', '10', '19', '26', '8', '21', '24', '23', '4', '15', '3', '12', '2', '13', '5', '14', '22', '25']\n",
      "['20', '18', '27', '9', '0', '11', '7', '29', '16', '6', '28', '17', '1', '10', '19', '26', '8', '21', '24', '23', '4', '15', '3', '12', '2', '13', '5', '14', '22', '25']\n",
      "['20', '18', '27', '9', '0', '11', '7', '29', '16', '6', '28', '17', '1', '10', '19', '26', '8', '21', '24', '23', '4', '15', '3', '12', '2', '13', '5', '14', '22', '25']\n",
      "['20', '18', '27', '9', '0', '11', '7', '29', '16', '6', '28', '17', '1', '10', '19', '26', '8', '21', '24', '23', '4', '15', '3', '12', '2', '13', '5', '14', '22', '25']\n",
      "['20', '18', '27', '9', '0', '11', '7', '29', '16', '6', '28', '17', '1', '10', '19', '26', '8', '21', '24', '23', '4', '15', '3', '12', '2', '13', '5', '14', '22', '25']\n",
      "['20', '18', '27', '9', '0', '11', '7', '29', '16', '6', '28', '17', '1', '10', '19', '26', '8', '21', '24', '23', '4', '15', '3', '12', '2', '13', '5', '14', '22', '25']\n",
      "['20', '18', '27', '9', '0', '11', '7', '29', '16', '6', '28', '17', '1', '10', '19', '26', '8', '21', '24', '23', '4', '15', '3', '12', '2', '13', '5', '14', '22', '25']\n",
      "['20', '18', '27', '9', '0', '11', '7', '29', '16', '6', '28', '17', '1', '10', '19', '26', '8', '21', '24', '23', '4', '15', '3', '12', '2', '13', '5', '14', '22', '25']\n",
      "['20', '18', '27', '9', '0', '11', '7', '29', '16', '6', '28', '17', '1', '10', '19', '26', '8', '21', '24', '23', '4', '15', '3', '12', '2', '13', '5', '14', '22', '25']\n",
      "['20', '18', '27', '9', '0', '11', '7', '29', '16', '6', '28', '17', '1', '10', '19', '26', '8', '21', '24', '23', '4', '15', '3', '12', '2', '13', '5', '14', '22', '25']\n",
      "['20', '18', '27', '9', '0', '11', '7', '29', '16', '6', '28', '17', '1', '10', '19', '26', '8', '21', '24', '23', '4', '15', '3', '12', '2', '13', '5', '14', '22', '25']\n",
      "['20', '18', '27', '9', '0', '11', '7', '29', '16', '6', '28', '17', '1', '10', '19', '26', '8', '21', '24', '23', '4', '15', '3', '12', '2', '13', '5', '14', '22', '25']\n",
      "['20', '18', '27', '9', '0', '11', '7', '29', '16', '6', '28', '17', '1', '10', '19', '26', '8', '21', '24', '23', '4', '15', '3', '12', '2', '13', '5', '14', '22', '25']\n",
      "['20', '18', '27', '9', '0', '11', '7', '29', '16', '6', '28', '17', '1', '10', '19', '26', '8', '21', '24', '23', '4', '15', '3', '12', '2', '13', '5', '14', '22', '25']\n",
      "['20', '18', '27', '9', '0', '11', '7', '29', '16', '6', '28', '17', '1', '10', '19', '26', '8', '21', '24', '23', '4', '15', '3', '12', '2', '13', '5', '14', '22', '25']\n",
      "['20', '18', '27', '9', '0', '11', '7', '29', '16', '6', '28', '17', '1', '10', '19', '26', '8', '21', '24', '23', '4', '15', '3', '12', '2', '13', '5', '14', '22', '25']\n"
     ]
    }
   ],
   "source": [
    "for action in actions:\n",
    "    print(os.listdir(os.path.join(DATA_PATH, action)))"
   ]
  },
  {
   "cell_type": "code",
   "execution_count": 10,
   "id": "0cf9b2ca",
   "metadata": {},
   "outputs": [],
   "source": [
    "# for action in actions: \n",
    "#     dirmax = np.max(np.array(os.listdir(os.path.join(DATA_PATH, action))).astype(int))\n",
    "#     for sequence in range(1,no_sequences+1):\n",
    "#         try: \n",
    "#             os.makedirs(os.path.join(DATA_PATH, action, str(dirmax+sequence)))\n",
    "#         except:\n",
    "#             pass"
   ]
  },
  {
   "cell_type": "code",
   "execution_count": 11,
   "id": "b1c5f7bd",
   "metadata": {},
   "outputs": [
    {
     "name": "stderr",
     "output_type": "stream",
     "text": [
      "INFO: Created TensorFlow Lite XNNPACK delegate for CPU.\n"
     ]
    }
   ],
   "source": [
    "cap = cv2.VideoCapture(0)\n",
    "# Set mediapipe model \n",
    "with mp_holistic.Holistic(min_detection_confidence=0.5, min_tracking_confidence=0.5) as holistic:\n",
    "    \n",
    "    # NEW LOOP\n",
    "    # Loop through actions\n",
    "    for action in actions:\n",
    "        # Loop through sequences aka videos\n",
    "        for sequence in range(start_folder, start_folder+no_sequences):\n",
    "            # Loop through video length aka sequence length\n",
    "            for frame_num in range(sequence_length):\n",
    "\n",
    "                # Read feed\n",
    "                ret, frame = cap.read()\n",
    "\n",
    "                # Make detections\n",
    "                image, results = mediapipe_detection(frame, holistic)\n",
    "\n",
    "                # Draw landmarks\n",
    "                draw_styled_landmarks(image, results)\n",
    "                \n",
    "                cv2.rectangle(image, (410, 150, 600, 700) , (0, 255, 0), 1)\n",
    "                \n",
    "                # NEW Apply wait logic\n",
    "                if frame_num == 0: \n",
    "                    cv2.putText(image, 'STARTING COLLECTION', (120,200), \n",
    "                               cv2.FONT_HERSHEY_SIMPLEX, 1, (0,255, 0), 4, cv2.LINE_AA)\n",
    "                    cv2.putText(image, 'Collecting frames for {} Video Number {}'.format(action, sequence), (15,50), \n",
    "                               cv2.FONT_HERSHEY_SIMPLEX, 2, (255, 255, 255), 1, cv2.LINE_AA)\n",
    "                    # Show to screen\n",
    "                    cv2.imshow('OpenCV Feed', image)\n",
    "                    cv2.waitKey(500)\n",
    "                else: \n",
    "                    cv2.putText(image, 'Collecting frames for {} Video Number {}'.format(action, sequence), (15,50), \n",
    "                               cv2.FONT_HERSHEY_SIMPLEX, 2, (255, 255, 255), 1, cv2.LINE_AA)\n",
    "                    # Show to screen\n",
    "                    cv2.imshow('OpenCV Feed', image)\n",
    "                \n",
    "                # NEW Export keypoints\n",
    "                keypoints = extract_keypoints(results)\n",
    "                npy_path = os.path.join(DATA_PATH, action, str(sequence), str(frame_num))\n",
    "                np.save(npy_path, keypoints)\n",
    "\n",
    "                # Break gracefully\n",
    "                if cv2.waitKey(10) & 0xFF == ord('q'):\n",
    "                    break\n",
    "                    \n",
    "    cap.release()\n",
    "    cv2.destroyAllWindows()"
   ]
  },
  {
   "cell_type": "code",
   "execution_count": null,
   "id": "c7fa3f10",
   "metadata": {},
   "outputs": [],
   "source": [
    "cap.release()\n",
    "cv2.destroyAllWindows()"
   ]
  },
  {
   "cell_type": "code",
   "execution_count": null,
   "id": "202f7a94",
   "metadata": {},
   "outputs": [],
   "source": []
  }
 ],
 "metadata": {
  "kernelspec": {
   "display_name": "Python 3 (ipykernel)",
   "language": "python",
   "name": "python3"
  },
  "language_info": {
   "codemirror_mode": {
    "name": "ipython",
    "version": 3
   },
   "file_extension": ".py",
   "mimetype": "text/x-python",
   "name": "python",
   "nbconvert_exporter": "python",
   "pygments_lexer": "ipython3",
   "version": "3.8.16"
  }
 },
 "nbformat": 4,
 "nbformat_minor": 5
}
